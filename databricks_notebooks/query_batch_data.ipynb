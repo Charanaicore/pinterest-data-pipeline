{
 "cells": [
  {
   "cell_type": "markdown",
   "metadata": {},
   "source": [
    "The code in this notebook was run on the Databricks notebook, following on from the code found in the dataframe cleaning notebook"
   ]
  },
  {
   "cell_type": "code",
   "execution_count": null,
   "metadata": {},
   "outputs": [
    {
     "data": {
      "text/html": [
       "<style scoped>\n",
       "  .ansiout {\n",
       "    display: block;\n",
       "    unicode-bidi: embed;\n",
       "    white-space: pre-wrap;\n",
       "    word-wrap: break-word;\n",
       "    word-break: break-all;\n",
       "    font-family: \"Source Code Pro\", \"Menlo\", monospace;;\n",
       "    font-size: 13px;\n",
       "    color: #555;\n",
       "    margin-left: 4px;\n",
       "    line-height: 19px;\n",
       "  }\n",
       "</style>\n",
       "<div class=\"ansiout\"></div>"
      ]
     },
     "metadata": {},
     "output_type": "display_data"
    }
   ],
   "source": [
    "# import for performing window functions\n",
    "from pyspark.sql.window import Window\n",
    "# join df_pin and df_geo dataframes on index\n",
    "pin_geo = df_pin.join(df_geo, df_pin.ind == df_geo.ind)\n",
    "# join df_pin and df_user and create temp view for SQL query\n",
    "df_pin.join(df_user, df_pin.ind == df_user.ind).createOrReplaceTempView(\"category_age\")\n",
    "# SQL query to create age group column\n",
    "pin_user_age_group = spark.sql(\n",
    "    \"SELECT CASE \\\n",
    "        WHEN age between 18 and 24 then '18-24' \\\n",
    "        WHEN age between 25 and 35 then '25-35' \\\n",
    "        WHEN age between 36 and 50 then '36-50' \\\n",
    "        WHEN age > 50 then '50+' \\\n",
    "        END as age_group, * FROM category_age\")"
   ]
  },
  {
   "cell_type": "markdown",
   "metadata": {},
   "source": [
    "## Find the most popular category in each country"
   ]
  },
  {
   "cell_type": "code",
   "execution_count": null,
   "metadata": {},
   "outputs": [],
   "source": [
    "# create partition by country and order by category_count descending\n",
    "windowCountryByCatCount = Window.partitionBy(\"country\").orderBy(col(\"category_count\").desc())\n",
    "# find the most popular category in each country\n",
    "pin_geo.groupBy(\"country\", \"category\") \\\n",
    ".agg(count(\"category\") \\\n",
    ".alias(\"category_count\")) \\\n",
    ".withColumn(\"rank\", row_number().over(windowCountryByCatCount)) \\\n",
    ".filter(col(\"rank\") == 1) \\\n",
    ".drop(\"rank\") \\\n",
    ".show()"
   ]
  },
  {
   "cell_type": "markdown",
   "metadata": {},
   "source": [
    "## Find the most popular category each year"
   ]
  },
  {
   "cell_type": "code",
   "execution_count": null,
   "metadata": {},
   "outputs": [],
   "source": [
    "# create partition by year and order by category_count descending\n",
    "windowYearByCatCount = Window.partitionBy(\"post_year\").orderBy(col(\"category_count\").desc())\n",
    "# find which was the most popular category each year between 2018 and 2022\n",
    "pin_geo.withColumn(\"post_year\", year(\"timestamp\")) \\\n",
    ".filter(col(\"post_year\") >= 2018) \\\n",
    ".filter(col(\"post_year\") <= 2022) \\\n",
    ".groupBy(\"post_year\", \"category\") \\\n",
    ".agg(count(\"category\").alias(\"category_count\")) \\\n",
    ".withColumn(\"rank\", row_number().over(windowYearByCatCount)) \\\n",
    ".filter(col(\"rank\") == 1) \\\n",
    ".drop(\"rank\") \\\n",
    ".show()"
   ]
  },
  {
   "cell_type": "markdown",
   "metadata": {},
   "source": [
    "## Find the user with the most followers in each country\n",
    "### Based on the above query, find the country with the user with most followers"
   ]
  },
  {
   "cell_type": "code",
   "execution_count": null,
   "metadata": {},
   "outputs": [],
   "source": [
    "# create partition by country and order by follower_count descending\n",
    "windowCountryByFollowers = Window.partitionBy(\"country\").orderBy(col(\"follower_count\").desc())\n",
    "\n",
    "# find the user with the most followers in each country\n",
    "max_followers_by_country = \\\n",
    "    df_pin.join(df_geo, df_pin.ind == df_geo.ind) \\\n",
    "    .withColumn(\"rank\", row_number().over(windowCountryByFollowers)) \\\n",
    "    .filter(col(\"rank\") == 1) \\\n",
    "    .select(\"country\", \"poster_name\", \"follower_count\")\n",
    "\n",
    "# get highest number of followers from all countries\n",
    "max_followers_all_countries = max_followers_by_country.select(max(\"follower_count\")).collect()[0][0]\n",
    "\n",
    "# find the country with the user with most followers\n",
    "country_with_max_followers = \\\n",
    "    max_followers_by_country \\\n",
    "    .select(\"*\") \\\n",
    "    .where(col(\"follower_count\") == max_followers_all_countries)\n",
    "\n",
    "max_followers_by_country.show()\n",
    "country_with_max_followers.show()"
   ]
  },
  {
   "cell_type": "markdown",
   "metadata": {},
   "source": [
    "## Find the most popular category for different age groups"
   ]
  },
  {
   "cell_type": "code",
   "execution_count": null,
   "metadata": {},
   "outputs": [],
   "source": [
    "# create partition by age_group and order by category_count descending\n",
    "windowAgeGroup = Window.partitionBy(\"age_group\").orderBy(col(\"category_count\").desc())\n",
    "# find the most popular category for different age groups\n",
    "pin_user_age_group.groupBy(\"age_group\", \"category\") \\\n",
    ".agg(count(\"category\").alias(\"category_count\")) \\\n",
    ".withColumn(\"rank\", row_number().over(windowAgeGroup)) \\\n",
    ".filter(col(\"rank\") == 1) \\\n",
    ".drop(\"rank\") \\\n",
    ".show()"
   ]
  },
  {
   "cell_type": "markdown",
   "metadata": {},
   "source": [
    "## Find the median follower count for different age groups"
   ]
  },
  {
   "cell_type": "code",
   "execution_count": null,
   "metadata": {},
   "outputs": [],
   "source": [
    "# find the median follower count for different age groups\n",
    "pin_user_age_group \\\n",
    ".select(\"user_name\", \"date_joined\", \"age_group\", \"follower_count\") \\\n",
    ".distinct() \\\n",
    ".groupBy(\"age_group\") \\\n",
    ".agg(percentile_approx(\"follower_count\", 0.5).alias(\"median_follower_count\")) \\\n",
    ".orderBy(\"age_group\") \\\n",
    ".show()"
   ]
  },
  {
   "cell_type": "markdown",
   "metadata": {},
   "source": [
    "## Find out how many users joined each year"
   ]
  },
  {
   "cell_type": "code",
   "execution_count": null,
   "metadata": {},
   "outputs": [],
   "source": [
    "# find out how many users joined each year\n",
    "df_user.withColumn(\"post_year\", year(\"date_joined\")) \\\n",
    ".drop(\"ind\") \\\n",
    ".distinct() \\\n",
    ".groupBy(\"post_year\") \\\n",
    ".agg(count(\"user_name\").alias(\"number_users_joined\")) \\\n",
    ".orderBy(\"post_year\") \\\n",
    ".show()"
   ]
  },
  {
   "cell_type": "markdown",
   "metadata": {},
   "source": [
    "## Find the median follower count of users based on their joining year"
   ]
  },
  {
   "cell_type": "code",
   "execution_count": null,
   "metadata": {},
   "outputs": [],
   "source": [
    "# find the median follower count of users based on their joining year\n",
    "pin_user_age_group \\\n",
    ".select(\"user_name\", \"date_joined\", \"follower_count\") \\\n",
    ".distinct() \\\n",
    ".withColumn(\"post_year\", year(\"date_joined\")) \\\n",
    ".groupBy(\"post_year\") \\\n",
    ".agg(percentile_approx(\"follower_count\", 0.5).alias(\"median_follower_count\")) \\\n",
    ".orderBy(\"post_year\") \\\n",
    ".show()"
   ]
  },
  {
   "cell_type": "markdown",
   "metadata": {},
   "source": [
    "## Find the median follower count of users that have joined between 2015 and 2020, based on which age group they are part of"
   ]
  },
  {
   "cell_type": "code",
   "execution_count": null,
   "metadata": {},
   "outputs": [],
   "source": [
    "# find the median follower count of users that have joined between 2015 and 2020, based on which age group they are part of\n",
    "pin_user_age_group \\\n",
    ".select(\"user_name\", \"age_group\", \"date_joined\", \"follower_count\") \\\n",
    ".distinct() \\\n",
    ".withColumn(\"post_year\", year(\"date_joined\")) \\\n",
    ".groupBy(\"post_year\", \"age_group\") \\\n",
    ".agg(percentile_approx(\"follower_count\", 0.5).alias(\"median_follower_count\")) \\\n",
    ".orderBy(\"post_year\", \"age_group\") \\\n",
    ".show()"
   ]
  }
 ],
 "metadata": {
  "kernelspec": {
   "display_name": "apache-spark",
   "language": "python",
   "name": "python3"
  },
  "language_info": {
   "codemirror_mode": {
    "name": "ipython",
    "version": 3
   },
   "file_extension": ".py",
   "mimetype": "text/x-python",
   "name": "python",
   "nbconvert_exporter": "python",
   "pygments_lexer": "ipython3",
   "version": "3.11.4"
  },
  "orig_nbformat": 4
 },
 "nbformat": 4,
 "nbformat_minor": 2
}
